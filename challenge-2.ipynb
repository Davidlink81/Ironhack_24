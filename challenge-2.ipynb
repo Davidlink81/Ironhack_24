{
 "cells": [
  {
   "cell_type": "markdown",
   "metadata": {},
   "source": [
    "## Challenge 2: Sets\n",
    "\n",
    "There are a lot to learn about Python Sets and the information presented in the lesson is limited due to its length. To learn Python Sets in depth you are strongly encouraged to review the W3Schools tutorial on [Python Sets Examples and Methods](https://www.w3schools.com/python/python_sets.asp) before you work on this lab. Some difficult questions in this lab have their solutions in the W3Schools tutorial.\n",
    "\n",
    "#### First, import the Python `random` library."
   ]
  },
  {
   "cell_type": "code",
   "execution_count": 105,
   "metadata": {},
   "outputs": [],
   "source": [
    "import random"
   ]
  },
  {
   "cell_type": "markdown",
   "metadata": {},
   "source": [
    "#### In the cell below, create a list named `sample_list_1` with 80 random values. \n",
    "\n",
    "Requirements:\n",
    "\n",
    "* Each value is an integer falling between 0 and 100.\n",
    "* Each value in the list is unique.\n",
    "\n",
    "Print `sample_list_1` to review its values\n",
    "\n",
    "*Hint: use `random.sample` ([reference](https://docs.python.org/3/library/random.html#random.sample)).*"
   ]
  },
  {
   "cell_type": "code",
   "execution_count": 106,
   "metadata": {},
   "outputs": [
    {
     "name": "stdout",
     "output_type": "stream",
     "text": [
      "[93, 9, 19, 24, 47, 29, 68, 27, 63, 30, 10, 92, 96, 37, 15, 2, 33, 89, 86, 34, 39, 4, 95, 87, 41, 83, 11, 40, 67, 48, 52, 59, 77, 97, 21, 57, 25, 23, 54, 62, 55, 20, 46, 3, 12, 49, 35, 74, 82, 45, 98, 8, 80, 60, 51, 32, 6, 56, 7, 14, 44, 72, 50, 53, 64, 5, 66, 70, 13, 43, 1, 38, 26, 17, 99, 36, 65, 42, 85, 91]\n"
     ]
    }
   ],
   "source": [
    "sample_list_1 = random.sample(range(100), k=80)\n",
    "# Vamos a crear una lista con a través de la variable sample_list_1 de 80 valores aleatorios\n",
    "print(sample_list_1)"
   ]
  },
  {
   "cell_type": "markdown",
   "metadata": {},
   "source": [
    "#### Convert `sample_list_1` to a set called `set1`. Print the length of the set. Is its length still 80?"
   ]
  },
  {
   "cell_type": "code",
   "execution_count": 107,
   "metadata": {},
   "outputs": [
    {
     "name": "stdout",
     "output_type": "stream",
     "text": [
      "La longitud de set1 es: 80\n"
     ]
    }
   ],
   "source": [
    "# Vamos a convertir sample_list_1 a un conjunto que le vamos a llamar set1\n",
    "\n",
    "set1 = set(sample_list_1)\n",
    "\n",
    "#vamos a imprimer la longitud del conjunto y ver si es 80\n",
    "print(\"La longitud de set1 es:\", len(set1))"
   ]
  },
  {
   "cell_type": "markdown",
   "metadata": {},
   "source": [
    "#### Create another list named `sample_list_2` with 80 random values.\n",
    "\n",
    "Requirements:\n",
    "\n",
    "* Each value is an integer falling between 0 and 100.\n",
    "* The values in the list don't have to be unique.\n",
    "\n",
    "*Hint: Use a FOR loop.*"
   ]
  },
  {
   "cell_type": "code",
   "execution_count": 108,
   "metadata": {
    "tags": []
   },
   "outputs": [
    {
     "name": "stdout",
     "output_type": "stream",
     "text": [
      "sample_list_2 es: [83, 68, 87, 24, 25, 92, 41, 16, 66, 83, 87, 79, 85, 95, 75, 54, 100, 93, 15, 86, 58, 39, 26, 53, 31, 98, 49, 82, 24, 38, 80, 48, 2, 86, 73, 40, 51, 31, 7, 53, 22, 25, 87, 21, 53, 0, 95, 43, 62, 37, 52, 72, 15, 28, 34, 32, 71, 35, 31, 94, 4, 41, 97, 73, 85, 27, 76, 87, 88, 18, 31, 30, 83, 51, 13, 52, 59, 10, 43, 99]\n"
     ]
    }
   ],
   "source": [
    "# Vamos a crear una lista con a través de la variable sample_list_2 de 80 valores aleatorios usando un FOR\n",
    "# Creamos una lista vacia para guargar los valores\n",
    "\n",
    "sample_list_2 = []\n",
    "\n",
    "# Con la función for i range vamos a generar un loop de rango 80\n",
    "for i in range(80):\n",
    "    random_value = random.randint(0, 100) #nos retorna los 80 número random entre 0 y 100.\n",
    "    sample_list_2.append(random_value) # añadimos los número a la lista\n",
    "\n",
    "# Print the resulting list\n",
    "print(\"sample_list_2 es:\", sample_list_2)"
   ]
  },
  {
   "cell_type": "markdown",
   "metadata": {},
   "source": [
    "#### Convert `sample_list_2` to a set called `set2`. Print the length of the set. Is its length still 80?"
   ]
  },
  {
   "cell_type": "code",
   "execution_count": 109,
   "metadata": {},
   "outputs": [
    {
     "name": "stdout",
     "output_type": "stream",
     "text": [
      "La longitud de set2 es: 59\n"
     ]
    }
   ],
   "source": [
    "# Vamos a convertir sample_list_2 a un conjunto que le vamos a llamar set2\n",
    "\n",
    "set2 = set(sample_list_2)\n",
    "\n",
    "#vamos a imprimer la longitud del conjunto y ver si es 80\n",
    "print(\"La longitud de set2 es:\", len(set2))\n",
    "\n",
    "#No es 80 debido a que tenemos valores repetidos."
   ]
  },
  {
   "cell_type": "markdown",
   "metadata": {},
   "source": [
    "#### Identify the elements present in `set1` but not in `set2`. Assign the elements to a new set named `set3`."
   ]
  },
  {
   "cell_type": "code",
   "execution_count": 110,
   "metadata": {},
   "outputs": [
    {
     "name": "stdout",
     "output_type": "stream",
     "text": [
      "Elementos presentes en set1 pero no en set2 {1, 3, 5, 6, 8, 9, 11, 12, 14, 17, 19, 20, 23, 29, 33, 36, 42, 44, 45, 46, 47, 50, 55, 56, 57, 60, 63, 64, 65, 67, 70, 74, 77, 89, 91, 96}\n"
     ]
    }
   ],
   "source": [
    "# Vamos a identificar los elementos presentes en la variable set1 pero que no esten en set2. \n",
    "#Lo guardaremos en la nueva varibale set3.\n",
    "\n",
    "set3 = set1 - set2\n",
    "print(\"Elementos presentes en set1 pero no en set2\", set3)"
   ]
  },
  {
   "cell_type": "markdown",
   "metadata": {},
   "source": [
    "#### Identify the elements present in `set2` but not in `set1`. Assign the elements to a new set named `set4`."
   ]
  },
  {
   "cell_type": "code",
   "execution_count": 111,
   "metadata": {},
   "outputs": [
    {
     "name": "stdout",
     "output_type": "stream",
     "text": [
      "Elementos presentes en set2 pero no en set1 {1, 3, 5, 6, 8, 9, 11, 12, 14, 17, 19, 20, 23, 29, 33, 36, 42, 44, 45, 46, 47, 50, 55, 56, 57, 60, 63, 64, 65, 67, 70, 74, 77, 89, 91, 96}\n"
     ]
    }
   ],
   "source": [
    "# Vamos a identificar los elementos presentes en la variable set2 pero que no esten en set1. \n",
    "#Lo guardaremos en la nueva varibale set4.\n",
    "\n",
    "set4 = set1 - set2\n",
    "print(\"Elementos presentes en set2 pero no en set1\", set4)"
   ]
  },
  {
   "cell_type": "markdown",
   "metadata": {
    "tags": []
   },
   "source": [
    "#### Now Identify the elements shared between `set1` and `set2`. Assign the elements to a new set named `set5`."
   ]
  },
  {
   "cell_type": "code",
   "execution_count": 112,
   "metadata": {},
   "outputs": [
    {
     "name": "stdout",
     "output_type": "stream",
     "text": [
      "Elementos compartidos entre las variables set1 y set2 {2, 4, 7, 10, 13, 15, 21, 24, 25, 26, 27, 30, 32, 34, 35, 37, 38, 39, 40, 41, 43, 48, 49, 51, 52, 53, 54, 59, 62, 66, 68, 72, 80, 82, 83, 85, 86, 87, 92, 93, 95, 97, 98, 99}\n"
     ]
    }
   ],
   "source": [
    "# Vamos a identificar los elementos compartidos entre la variable set1 y la variable set2. \n",
    "#Lo guardaremos en la nueva varibale set5.\n",
    "\n",
    "set5 = set1 & set2\n",
    "print(\"Elementos compartidos entre las variables set1 y set2\", set5)"
   ]
  },
  {
   "cell_type": "markdown",
   "metadata": {},
   "source": [
    "#### What is the relationship among the following values:\n",
    "\n",
    "* len(set1)\n",
    "* len(set2)\n",
    "* len(set3)\n",
    "* len(set4)\n",
    "* len(set5)\n",
    "\n",
    "Use a math formular to represent that relationship. Test your formular with Python code."
   ]
  },
  {
   "cell_type": "code",
   "execution_count": 113,
   "metadata": {},
   "outputs": [
    {
     "name": "stdout",
     "output_type": "stream",
     "text": [
      "La longitud de set1 es: 80\n",
      "La longitud de set2 es: 59\n",
      "La longitud de set3 es: 36\n",
      "La longitud de set4 es: 36\n",
      "La longitud de set5 es: 44\n"
     ]
    }
   ],
   "source": [
    "#Relación de los siguientes valores\n",
    "\n",
    "#len(set1) representa los elementos en la variable set1\n",
    "print(\"La longitud de set1 es:\", len(set1))\n",
    "\n",
    "#len(set2) representa los elementos en la variable set2\n",
    "print(\"La longitud de set2 es:\", len(set2))\n",
    "\n",
    "#len(set3) representa los elementos en la variable set 1 pero no en la variable set2\n",
    "print(\"La longitud de set3 es:\", len(set3))\n",
    "\n",
    "#len(set4) representa los elementos en la variable set 2 pero no en la variable set1\n",
    "print(\"La longitud de set4 es:\", len(set4))\n",
    "\n",
    "#len(set5) representa los elementos compartidos entre la variable set 1 y la variable set2\n",
    "print(\"La longitud de set5 es:\", len(set5))\n",
    "\n"
   ]
  },
  {
   "cell_type": "markdown",
   "metadata": {},
   "source": [
    "#### Create an empty set called `set6`."
   ]
  },
  {
   "cell_type": "code",
   "execution_count": 114,
   "metadata": {},
   "outputs": [],
   "source": [
    "#Vamos a crear un conjunto vacio llamado set6\n",
    "set6 =set()"
   ]
  },
  {
   "cell_type": "markdown",
   "metadata": {},
   "source": [
    "#### Add `set3` and `set5` to `set6` using the Python Set `update` method."
   ]
  },
  {
   "cell_type": "code",
   "execution_count": 115,
   "metadata": {},
   "outputs": [
    {
     "name": "stdout",
     "output_type": "stream",
     "text": [
      "El conjunto 6 es: {1, 2, 3, 4, 5, 6, 7, 8, 9, 10, 11, 12, 13, 14, 15, 17, 19, 20, 21, 23, 24, 25, 26, 27, 29, 30, 32, 33, 34, 35, 36, 37, 38, 39, 40, 41, 42, 43, 44, 45, 46, 47, 48, 49, 50, 51, 52, 53, 54, 55, 56, 57, 59, 60, 62, 63, 64, 65, 66, 67, 68, 70, 72, 74, 77, 80, 82, 83, 85, 86, 87, 89, 91, 92, 93, 95, 96, 97, 98, 99}\n"
     ]
    }
   ],
   "source": [
    "#Vamos a agregar al conjunto set6, el conjunto set3 y set5 usando la función update\n",
    "\n",
    "#Hacemos update de set6 con set3\n",
    "set6.update(set3)\n",
    "\n",
    "#Hacemos update de set6 con set5\n",
    "set6.update(set5)\n",
    "\n",
    "print(\"El conjunto 6 es:\", set6)"
   ]
  },
  {
   "cell_type": "markdown",
   "metadata": {},
   "source": [
    "#### Check if `set1` and `set6` are equal."
   ]
  },
  {
   "cell_type": "code",
   "execution_count": 116,
   "metadata": {},
   "outputs": [
    {
     "name": "stdout",
     "output_type": "stream",
     "text": [
      "Set1 y set6 son igulaes: True\n"
     ]
    }
   ],
   "source": [
    "# Vamos a chekear que set1 es igual a set6\n",
    "set1_igual_set6 = set1==set6\n",
    "print(\"Set1 y set6 son igulaes:\" , set1_igual_set6)"
   ]
  },
  {
   "cell_type": "markdown",
   "metadata": {},
   "source": [
    "#### Check if `set1` contains `set2` using the Python Set `issubset` method. Then check if `set1` contains `set3`.*"
   ]
  },
  {
   "cell_type": "code",
   "execution_count": 117,
   "metadata": {},
   "outputs": [
    {
     "name": "stdout",
     "output_type": "stream",
     "text": [
      "Set1 contains set2: False\n",
      "Set1 contains set3: False\n"
     ]
    }
   ],
   "source": [
    "# Vamos a chekear si set1 contiene a set2 usando el codigo de issubset\n",
    "set1_contains_set2 = set1.issubset(set2)\n",
    "print(\"Set1 contains set2:\" ,set1_contains_set2)\n",
    "\n",
    "# Vamos a chekear si set1 contiene a set3 usando el codigo de issubset\n",
    "set1_contains_set3 = set1.issubset(set3)\n",
    "print(\"Set1 contains set3:\" ,set1_contains_set3)"
   ]
  },
  {
   "cell_type": "markdown",
   "metadata": {},
   "source": [
    "#### Using the Python Set `union` method, aggregate `set3`, `set4`, and `set5`. Then aggregate `set1` and `set2`. \n",
    "\n",
    "#### Check if the aggregated values are equal."
   ]
  },
  {
   "cell_type": "code",
   "execution_count": 118,
   "metadata": {},
   "outputs": [
    {
     "name": "stdout",
     "output_type": "stream",
     "text": [
      "La unión de los conjuntos 3, 4 y 5 es: {1, 2, 3, 4, 5, 6, 7, 8, 9, 10, 11, 12, 13, 14, 15, 17, 19, 20, 21, 23, 24, 25, 26, 27, 29, 30, 32, 33, 34, 35, 36, 37, 38, 39, 40, 41, 42, 43, 44, 45, 46, 47, 48, 49, 50, 51, 52, 53, 54, 55, 56, 57, 59, 60, 62, 63, 64, 65, 66, 67, 68, 70, 72, 74, 77, 80, 82, 83, 85, 86, 87, 89, 91, 92, 93, 95, 96, 97, 98, 99}\n",
      "La unión de los conjuntos 1 y 2 es: {0, 1, 2, 3, 4, 5, 6, 7, 8, 9, 10, 11, 12, 13, 14, 15, 16, 17, 18, 19, 20, 21, 22, 23, 24, 25, 26, 27, 28, 29, 30, 31, 32, 33, 34, 35, 36, 37, 38, 39, 40, 41, 42, 43, 44, 45, 46, 47, 48, 49, 50, 51, 52, 53, 54, 55, 56, 57, 58, 59, 60, 62, 63, 64, 65, 66, 67, 68, 70, 71, 72, 73, 74, 75, 76, 77, 79, 80, 82, 83, 85, 86, 87, 88, 89, 91, 92, 93, 94, 95, 96, 97, 98, 99, 100}\n",
      "La unión de los conjuntos 3, 4 y 5 es igual a la unión de los conjuntos 1 y 2: False\n"
     ]
    }
   ],
   "source": [
    "#Vamos a unir los conjuntos set3, set4 y set5 para posteriormente compararlo con la unión de set1 y set2\n",
    "\n",
    "#Unión de set3, set4 y set5\n",
    "union_3_4_5 = set3 | set4 | set5\n",
    "print(\"La unión de los conjuntos 3, 4 y 5 es:\" ,union_3_4_5)\n",
    "\n",
    "#Unión de set3, set4 y set5\n",
    "union_1_2 = set1 | set2\n",
    "print(\"La unión de los conjuntos 1 y 2 es:\" ,union_1_2)\n",
    "\n",
    "#Vamos a comparar las 2 uniones\n",
    "compare = union_3_4_5 == union_1_2\n",
    "print(\"La unión de los conjuntos 3, 4 y 5 es igual a la unión de los conjuntos 1 y 2:\" , compare)"
   ]
  },
  {
   "cell_type": "markdown",
   "metadata": {},
   "source": [
    "#### Using the `pop` method, remove the first element from `set1`."
   ]
  },
  {
   "cell_type": "code",
   "execution_count": 121,
   "metadata": {},
   "outputs": [
    {
     "name": "stdout",
     "output_type": "stream",
     "text": [
      "2\n"
     ]
    }
   ],
   "source": [
    "#Vamos a usar el codigo pop para eliminar el primer elemento del conjunto set1\n",
    "remove = set1.pop()\n",
    "print(remove)\n"
   ]
  },
  {
   "cell_type": "markdown",
   "metadata": {},
   "source": [
    "#### Remove every element in the following list from `set1` if they are present in the set. Print the remaining elements.\n",
    "\n",
    "```\n",
    "list_to_remove = [1, 9, 11, 19, 21, 29, 31, 39, 41, 49, 51, 59, 61, 69, 71, 79, 81, 89, 91, 99]\n",
    "```"
   ]
  },
  {
   "cell_type": "code",
   "execution_count": 128,
   "metadata": {},
   "outputs": [
    {
     "name": "stdout",
     "output_type": "stream",
     "text": [
      "Los elementos restantes son: {3, 4, 5, 6, 7, 8, 10, 12, 13, 14, 15, 17, 20, 23, 24, 25, 26, 27, 30, 32, 33, 34, 35, 36, 37, 38, 40, 42, 43, 44, 45, 46, 47, 48, 50, 52, 53, 54, 55, 56, 57, 60, 62, 63, 64, 65, 66, 67, 68, 70, 72, 74, 77, 80, 82, 83, 85, 86, 87, 92, 93, 95, 96, 97, 98}\n"
     ]
    }
   ],
   "source": [
    "# Vamos a eliminar los elementos que nos dan en una lista del conjunto set1, si es que estan presentes.\n",
    "# Posteriormente vamos a imprimir los elementos que quedan.\n",
    "\n",
    "#Ya tenemos definido los elementos de set1.\n",
    "\n",
    "#Ahora vamos a definir los elementos de list_to_remove:\n",
    "list_to_remove = [1, 9, 11, 19, 21, 29, 31, 39, 41, 49, 51, 59, 61, 69, 71, 79, 81, 89, 91, 99]\n",
    "\n",
    "#Comprovar si los elementos de list_to_remove están en el conjunto set1. Para ello usaremos el codigo discard ya que no da error si el elemento no esta.\n",
    "for elemento in list_to_remove:\n",
    "        set1.discard(elemento)\n",
    "print(\"Los elementos restantes son:\", set1) #Una vez comprovado toda la list_to_remove, imprimir el conjunto set1 son los elementos que hayan quedado."
   ]
  },
  {
   "cell_type": "code",
   "execution_count": null,
   "metadata": {},
   "outputs": [],
   "source": []
  }
 ],
 "metadata": {
  "kernelspec": {
   "display_name": "Python 3 (ipykernel)",
   "language": "python",
   "name": "python3"
  },
  "language_info": {
   "codemirror_mode": {
    "name": "ipython",
    "version": 3
   },
   "file_extension": ".py",
   "mimetype": "text/x-python",
   "name": "python",
   "nbconvert_exporter": "python",
   "pygments_lexer": "ipython3",
   "version": "3.11.5"
  },
  "nbTranslate": {
   "displayLangs": [
    "en",
    "es"
   ],
   "hotkey": "alt-a",
   "langInMainMenu": true,
   "sourceLang": "es",
   "targetLang": "en",
   "useGoogleTranslate": true
  },
  "toc": {
   "base_numbering": 1,
   "nav_menu": {},
   "number_sections": true,
   "sideBar": true,
   "skip_h1_title": false,
   "title_cell": "Table of Contents",
   "title_sidebar": "Contents",
   "toc_cell": false,
   "toc_position": {},
   "toc_section_display": true,
   "toc_window_display": false
  },
  "vscode": {
   "interpreter": {
    "hash": "aee8b7b246df8f9039afb4144a1f6fd8d2ca17a180786b69acc140d282b71a49"
   }
  }
 },
 "nbformat": 4,
 "nbformat_minor": 4
}
